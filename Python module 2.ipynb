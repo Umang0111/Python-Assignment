{
 "cells": [
  {
   "cell_type": "code",
   "execution_count": 2,
   "id": "a6187dea",
   "metadata": {},
   "outputs": [
    {
     "name": "stdout",
     "output_type": "stream",
     "text": [
      "enter any number6\n",
      "it is positive\n"
     ]
    }
   ],
   "source": [
    "# que:1. python program to check number is positive or negative.\n",
    "num=int(input('enter any number'))\n",
    "if num<=0:\n",
    "    if num==0:\n",
    "        print('it is zero')\n",
    "    else:\n",
    "        print('it is negative')\n",
    "else:\n",
    "    print('it is positive')"
   ]
  },
  {
   "cell_type": "code",
   "execution_count": null,
   "id": "c063b353",
   "metadata": {},
   "outputs": [],
   "source": []
  },
  {
   "cell_type": "code",
   "execution_count": 3,
   "id": "6c1612e5",
   "metadata": {},
   "outputs": [
    {
     "name": "stdout",
     "output_type": "stream",
     "text": [
      "enter the number4\n",
      "24\n"
     ]
    }
   ],
   "source": [
    "# que:2. python program to get the factorial number of given number.\n",
    "num=int(input('enter the number'))\n",
    "n=1\n",
    "for i in range(num,0,-1):\n",
    "    n=n*i\n",
    "print(n)"
   ]
  },
  {
   "cell_type": "code",
   "execution_count": null,
   "id": "c6d1f6bf",
   "metadata": {},
   "outputs": [],
   "source": []
  },
  {
   "cell_type": "code",
   "execution_count": 9,
   "id": "7e9e1c0f",
   "metadata": {},
   "outputs": [
    {
     "name": "stdout",
     "output_type": "stream",
     "text": [
      "enter the number7\n",
      "7 is odd number\n"
     ]
    }
   ],
   "source": [
    "# que:3. python program to find whether the given number is even or odd.\n",
    "num=int(input('enter the number'))\n",
    "if num==0:\n",
    "    print('is neutral number')\n",
    "elif num%2==0:\n",
    "    print(num, 'is even number')\n",
    "else:\n",
    "    print(num, 'is odd number')"
   ]
  },
  {
   "cell_type": "code",
   "execution_count": null,
   "id": "c32d238f",
   "metadata": {},
   "outputs": [],
   "source": []
  },
  {
   "cell_type": "code",
   "execution_count": 10,
   "id": "906b27db",
   "metadata": {},
   "outputs": [
    {
     "name": "stdout",
     "output_type": "stream",
     "text": [
      "enter any letteru\n",
      "u is vowel letter\n"
     ]
    }
   ],
   "source": [
    "# que:4. python program to find the letter is vowel or not.\n",
    "num=input('enter any letter')\n",
    "if num in ('aeiouAEIOU'):\n",
    "    print(num, 'is vowel letter')\n",
    "else:\n",
    "    print(num, 'is not vowel')"
   ]
  },
  {
   "cell_type": "code",
   "execution_count": null,
   "id": "2dbf9b4e",
   "metadata": {},
   "outputs": [],
   "source": []
  },
  {
   "cell_type": "code",
   "execution_count": 13,
   "id": "25ccacd9",
   "metadata": {},
   "outputs": [
    {
     "name": "stdout",
     "output_type": "stream",
     "text": [
      "enter the first number12\n",
      "enter the second number12\n",
      "enter the third number13\n",
      "0\n"
     ]
    }
   ],
   "source": [
    "# que:5. Write a Python program to sum of three given integers.However, if two values are equal sum \n",
    "# will be zero.\n",
    "num1=int(input('enter the first number'))\n",
    "num2=int(input('enter the second number'))\n",
    "num3=int(input('enter the third number'))\n",
    "if num1==num2 or num1==num3 or num2==num3:\n",
    "    print('0')\n",
    "else:\n",
    "    sum=num1+num2+num3\n",
    "    print(sum)"
   ]
  },
  {
   "cell_type": "code",
   "execution_count": null,
   "id": "4d0c8a05",
   "metadata": {},
   "outputs": [],
   "source": []
  },
  {
   "cell_type": "code",
   "execution_count": 14,
   "id": "240b0100",
   "metadata": {},
   "outputs": [
    {
     "name": "stdout",
     "output_type": "stream",
     "text": [
      "enter ther number4\n",
      "enter the number5\n",
      "5\n",
      "4\n"
     ]
    }
   ],
   "source": [
    "# que:6. python program that swap two number with temp variable and without temp variable.\n",
    "a=int(input('enter ther number'))\n",
    "b=int(input('enter the number'))\n",
    "if a!=b:\n",
    "    if a>b or a<b:\n",
    "        a=a+b\n",
    "        b=a-b\n",
    "        a=a-b\n",
    "print(a)\n",
    "print(b)"
   ]
  },
  {
   "cell_type": "code",
   "execution_count": null,
   "id": "35dff583",
   "metadata": {},
   "outputs": [],
   "source": []
  },
  {
   "cell_type": "code",
   "execution_count": 19,
   "id": "9b78d90f",
   "metadata": {},
   "outputs": [
    {
     "name": "stdout",
     "output_type": "stream",
     "text": [
      "enter the number3\n",
      "enter the number2\n",
      "True\n"
     ]
    }
   ],
   "source": [
    "# que:7. python program that will return true if two given integervalues are equal or their sum or \n",
    "# difference is 5.\n",
    "a=int(input('enter the number'))\n",
    "b=int(input('enter the number'))\n",
    "c=False\n",
    "if a==b or a+b==5 or a-b==5:\n",
    "    c = True\n",
    "    print(c)\n",
    "else:\n",
    "    print(c)"
   ]
  },
  {
   "cell_type": "code",
   "execution_count": null,
   "id": "6221a4a8",
   "metadata": {},
   "outputs": [],
   "source": []
  },
  {
   "cell_type": "code",
   "execution_count": 20,
   "id": "46585019",
   "metadata": {},
   "outputs": [
    {
     "name": "stdout",
     "output_type": "stream",
     "text": [
      "enter the number5\n",
      "15\n"
     ]
    }
   ],
   "source": [
    "# que:8. python program to sum of the first n positive integers.\n",
    "num=int(input('enter the number'))\n",
    "m=0\n",
    "for i in range(1,num+1):\n",
    "    m=m+i\n",
    "print(m)"
   ]
  },
  {
   "cell_type": "code",
   "execution_count": null,
   "id": "af7b86f5",
   "metadata": {},
   "outputs": [],
   "source": []
  },
  {
   "cell_type": "code",
   "execution_count": 29,
   "id": "c6cf69d4",
   "metadata": {},
   "outputs": [
    {
     "name": "stdout",
     "output_type": "stream",
     "text": [
      "enter the number3\n",
      "prime\n"
     ]
    }
   ],
   "source": [
    "# que:9. python program to check whether the number is prime or not.\n",
    "num=int(input('enter the number'))\n",
    "for i in range(2,num+1):\n",
    "    if i<num and num%i==0:\n",
    "        print('not prime')\n",
    "        break\n",
    "    if i==num and num%i==0:\n",
    "        print('prime')\n",
    "        break\n",
    "if num<=1 and num>0:\n",
    "    print('prime') \n",
    "if num==0:\n",
    "    print('whole number')"
   ]
  },
  {
   "cell_type": "code",
   "execution_count": null,
   "id": "05b91cbf",
   "metadata": {},
   "outputs": [],
   "source": []
  },
  {
   "cell_type": "code",
   "execution_count": 31,
   "id": "9f379118",
   "metadata": {},
   "outputs": [
    {
     "name": "stdout",
     "output_type": "stream",
     "text": [
      "enter the number5\n",
      "0\n",
      "1\n",
      "1\n",
      "2\n",
      "3\n",
      "5\n"
     ]
    }
   ],
   "source": [
    "# que:10. python program to get the fibonacci seriesif given range.\n",
    "num=int(input('enter the number'))\n",
    "a=0\n",
    "b=1\n",
    "if a==num:\n",
    "    print(a)\n",
    "else:\n",
    "    print(a)\n",
    "    print(b)\n",
    "    for i in range(2,num+1):\n",
    "        c=a+b\n",
    "        a=b\n",
    "        b=c\n",
    "        print(c)"
   ]
  },
  {
   "cell_type": "code",
   "execution_count": null,
   "id": "c9138bae",
   "metadata": {},
   "outputs": [],
   "source": []
  },
  {
   "cell_type": "code",
   "execution_count": null,
   "id": "5a8f4beb",
   "metadata": {},
   "outputs": [],
   "source": [
    "# que:11. what is the purpose of continue statement in python?\n",
    "# ans. In python the purpose of continue statement is to leave the current iteration and start next \n",
    "#     iteration or continue from next iteration."
   ]
  },
  {
   "cell_type": "code",
   "execution_count": null,
   "id": "56be921d",
   "metadata": {},
   "outputs": [],
   "source": []
  },
  {
   "cell_type": "code",
   "execution_count": 33,
   "id": "80e87766",
   "metadata": {},
   "outputs": [
    {
     "name": "stdout",
     "output_type": "stream",
     "text": [
      "enter any string.\n",
      "umang patel umang\n",
      "u : 2\n",
      "m : 2\n",
      "a : 3\n",
      "n : 2\n",
      "g : 2\n",
      "p : 1\n",
      "a : 3\n",
      "t : 1\n",
      "e : 1\n",
      "l : 1\n",
      "u : 2\n",
      "m : 2\n",
      "a : 3\n",
      "n : 2\n",
      "g : 2\n"
     ]
    }
   ],
   "source": [
    "# que:12. python program to count the number of character (character of frequency) in a string.\n",
    "string=input('enter any string.\\n')\n",
    "for i in string:\n",
    "    if i.isalpha():\n",
    "        s=string.count(i)\n",
    "        print(i, ':',  s)"
   ]
  },
  {
   "cell_type": "code",
   "execution_count": null,
   "id": "e31f3a31",
   "metadata": {},
   "outputs": [],
   "source": []
  },
  {
   "cell_type": "code",
   "execution_count": 34,
   "id": "c2668320",
   "metadata": {},
   "outputs": [
    {
     "name": "stdout",
     "output_type": "stream",
     "text": [
      "enter the string.\n",
      "umangpatel\n",
      "the length of your string is 10 .\n"
     ]
    }
   ],
   "source": [
    "# que:13. python program to calculate the length of the string.\n",
    "string=input('enter the string.' + '\\n')\n",
    "sts=len(string)\n",
    "print('the length of your string is',sts,'.')"
   ]
  },
  {
   "cell_type": "code",
   "execution_count": null,
   "id": "2f7bd0f7",
   "metadata": {},
   "outputs": [],
   "source": []
  },
  {
   "cell_type": "code",
   "execution_count": 36,
   "id": "9ce7f290",
   "metadata": {},
   "outputs": [
    {
     "name": "stdout",
     "output_type": "stream",
     "text": [
      "enter the string.\n",
      "umang patel patel\n",
      "enter the substring.\n",
      "patel\n",
      "2\n"
     ]
    }
   ],
   "source": [
    "# quue:14. python program to count the occurrences of a substring in a string.\n",
    "str1=input('enter the string.\\n')\n",
    "cw=input('enter the substring.\\n')\n",
    "ans=str1.count(cw)\n",
    "print(ans)"
   ]
  },
  {
   "cell_type": "code",
   "execution_count": null,
   "id": "ce4c062a",
   "metadata": {},
   "outputs": [],
   "source": []
  },
  {
   "cell_type": "code",
   "execution_count": null,
   "id": "f141a4b6",
   "metadata": {},
   "outputs": [],
   "source": [
    "# que:15. What are negative indexes and why are they used?\n",
    "# ans. Negative Indexing is to begin slicing from the end of the string. Slicing in Python gets \n",
    "# a sub-string from a string. It is generally used to find the index value of a character or element.\n",
    "# For the last element/ character it starts from -1."
   ]
  },
  {
   "cell_type": "code",
   "execution_count": null,
   "id": "f83628c1",
   "metadata": {},
   "outputs": [],
   "source": []
  },
  {
   "cell_type": "code",
   "execution_count": 37,
   "id": "82afd4f6",
   "metadata": {},
   "outputs": [
    {
     "name": "stdout",
     "output_type": "stream",
     "text": [
      "enter any string.\n",
      "umang umang patel\n",
      "umang : 2\n",
      "umang : 2\n",
      "patel : 1\n"
     ]
    }
   ],
   "source": [
    "# que:16. python program to count the occurrences of each word in a given string. \n",
    "str1=input('enter any string.\\n')\n",
    "spl=str1.split()\n",
    "for i in spl:\n",
    "    sts=str1.count(i)\n",
    "    sts1=i\n",
    "    print(sts1,':',sts)"
   ]
  },
  {
   "cell_type": "code",
   "execution_count": null,
   "id": "040a7a9b",
   "metadata": {},
   "outputs": [],
   "source": []
  },
  {
   "cell_type": "code",
   "execution_count": 38,
   "id": "fa7f0b56",
   "metadata": {},
   "outputs": [
    {
     "name": "stdout",
     "output_type": "stream",
     "text": [
      "enter the first string.\n",
      "1.umang\n",
      "enter the second string.\n",
      "2.patel\n",
      "answer:-\n",
      "paang umtel\n"
     ]
    }
   ],
   "source": [
    "# que:17. Write a Python program to get a single string from two given strings,separated by a space \n",
    "# and swap the first two characters of each string.\n",
    "l1=input('enter the first string.\\n1.')\n",
    "l2=input('enter the second string.\\n2.')\n",
    "str1=l1[0:2]\n",
    "str2=l2[0:2]\n",
    "ans=l1.replace(str1,str2)\n",
    "ans1=l2.replace(str2,str1)\n",
    "ans2=f'{ans} {ans1}'\n",
    "print('answer:-\\n'+ans2)"
   ]
  },
  {
   "cell_type": "code",
   "execution_count": null,
   "id": "9cbaa939",
   "metadata": {},
   "outputs": [],
   "source": []
  },
  {
   "cell_type": "code",
   "execution_count": 40,
   "id": "199248a7",
   "metadata": {},
   "outputs": [
    {
     "name": "stdout",
     "output_type": "stream",
     "text": [
      "enter the string\n",
      "jumping\n",
      "jumply\n"
     ]
    }
   ],
   "source": [
    "#que:18. Write a Python program to add 'ing' at the end of a given string (length should be at\n",
    "# least 3). If the given string already ends with 'ing' then add 'ly' instead. if the string \n",
    "# length of the given string is less than 3, leave it unchanged.\n",
    "str1=input('enter the string\\n') \n",
    "i='ing' \n",
    "w=str1.endswith('ing') \n",
    "if len(str1)>=3 and str1.endswith('ing'):\n",
    "    str3=str1.replace('ing','ly')\n",
    "    print(str3) \n",
    "elif len(str1)>=3 and str1!=w:\n",
    "    str2=f'{str1}{i}' \n",
    "    print(str2) \n",
    "if len(str1)<3:\n",
    "    print(str1)"
   ]
  },
  {
   "cell_type": "code",
   "execution_count": null,
   "id": "c8a4d90f",
   "metadata": {},
   "outputs": [],
   "source": []
  },
  {
   "cell_type": "code",
   "execution_count": 41,
   "id": "21f45215",
   "metadata": {},
   "outputs": [
    {
     "name": "stdout",
     "output_type": "stream",
     "text": [
      "The weather is good today.\n"
     ]
    }
   ],
   "source": [
    "#que:19. Write a Python program to find the first appearance of the substring 'not'and 'poor' from a \n",
    "# given string, if 'not' follows the 'poor', replace the whole 'not'...'poor'substring with 'good'. \n",
    "# Return the resulting string.\n",
    "str1 = 'The weather is not too poor today.'\n",
    "a = str1.find('not')\n",
    "b = str1.find('poor')\n",
    "if b>a:\n",
    "    print(str1[0:a] + 'good' + str1[b+4:])\n",
    "else:\n",
    "    print(str1)"
   ]
  },
  {
   "cell_type": "code",
   "execution_count": null,
   "id": "0f99d704",
   "metadata": {},
   "outputs": [],
   "source": []
  },
  {
   "cell_type": "code",
   "execution_count": 43,
   "id": "42c3c855",
   "metadata": {},
   "outputs": [
    {
     "name": "stdout",
     "output_type": "stream",
     "text": [
      "enter the list of few word.\n",
      "you are so good at cricket\n",
      "['you', 'are', 'so', 'good', 'at', 'cricket']\n",
      "cricket : 7\n"
     ]
    }
   ],
   "source": [
    "# que:20. Write a Python function that takes a list of words and returns the length\n",
    "# of the longest one.\n",
    "l=input('enter the list of few word.\\n')\n",
    "l1=l.split()\n",
    "l2=0\n",
    "l3=0\n",
    "print(l1)\n",
    "for i in l1:\n",
    "    if len(i)>l2:\n",
    "        l2=len(i)\n",
    "        name=i\n",
    "    else:\n",
    "        if len(i)<l2:\n",
    "            l3=len(i)\n",
    "print(name,':',l2)"
   ]
  },
  {
   "cell_type": "code",
   "execution_count": null,
   "id": "b92fe300",
   "metadata": {},
   "outputs": [],
   "source": []
  },
  {
   "cell_type": "code",
   "execution_count": 47,
   "id": "38a36401",
   "metadata": {},
   "outputs": [
    {
     "name": "stdout",
     "output_type": "stream",
     "text": [
      "enter the word.\n",
      "umangptl\n",
      "ltpgnamu\n"
     ]
    }
   ],
   "source": [
    "# que:21 Write a Python function to reverses a string if its length is a multiple of 4.\n",
    "st1=input('enter the word.\\n')\n",
    "st2=len(st1)\n",
    "if st2%4==0:\n",
    "    print(st1[::-1])"
   ]
  },
  {
   "cell_type": "code",
   "execution_count": null,
   "id": "a750d28b",
   "metadata": {},
   "outputs": [],
   "source": []
  },
  {
   "cell_type": "code",
   "execution_count": 51,
   "id": "9e71c5f0",
   "metadata": {},
   "outputs": [
    {
     "name": "stdout",
     "output_type": "stream",
     "text": [
      "enter the string.\n",
      "umangpatel\n",
      "umel\n"
     ]
    }
   ],
   "source": [
    "#que:22. Write a Python program to get a string made of the first 2 and the last 2chars from a given\n",
    "# a string.Ifthe string length islessthan 2,return instead of the empty string.\n",
    "sta=input('enter the string.\\n')\n",
    "len1=len(sta)\n",
    "ch1=sta[0:2]\n",
    "ch2=sta[-2::]\n",
    "if len1<2:\n",
    "    print('empty string.')\n",
    "elif len1<3 and len1>1:\n",
    "    print(sta)\n",
    "elif len1>=3:\n",
    "    print(ch1,ch2,sep='')"
   ]
  },
  {
   "cell_type": "code",
   "execution_count": null,
   "id": "267b95fc",
   "metadata": {},
   "outputs": [],
   "source": []
  },
  {
   "cell_type": "code",
   "execution_count": 52,
   "id": "b9df9daa",
   "metadata": {},
   "outputs": [
    {
     "name": "stdout",
     "output_type": "stream",
     "text": [
      "enter the first string.\n",
      "umang\n",
      "enter the second string.\n",
      "patel\n",
      "umpatelang\n"
     ]
    }
   ],
   "source": [
    "# que:23. write a Python function to insert a string in the middle of a string.\n",
    "sts=input('enter the first string.\\n')\n",
    "sts1=input('enter the second string.\\n')\n",
    "ans=len(sts)//2\n",
    "ans1=sts[:ans:]\n",
    "ans2=sts[ans::]\n",
    "if ans%2==0:\n",
    "    ans3=f'{ans1}{sts1}{ans2}'\n",
    "    print(ans3)\n",
    "elif ans%2!=0:\n",
    "    print(ans1,sts1,ans2,sep=' ')"
   ]
  },
  {
   "cell_type": "code",
   "execution_count": null,
   "id": "2c4b36ba",
   "metadata": {},
   "outputs": [],
   "source": []
  },
  {
   "cell_type": "code",
   "execution_count": null,
   "id": "84b8392a",
   "metadata": {},
   "outputs": [],
   "source": []
  },
  {
   "cell_type": "code",
   "execution_count": null,
   "id": "ae05730f",
   "metadata": {},
   "outputs": [],
   "source": []
  },
  {
   "cell_type": "code",
   "execution_count": null,
   "id": "bca6bcf1",
   "metadata": {},
   "outputs": [],
   "source": []
  },
  {
   "cell_type": "code",
   "execution_count": null,
   "id": "ea82adf0",
   "metadata": {},
   "outputs": [],
   "source": []
  },
  {
   "cell_type": "code",
   "execution_count": null,
   "id": "7f183ea0",
   "metadata": {},
   "outputs": [],
   "source": []
  }
 ],
 "metadata": {
  "kernelspec": {
   "display_name": "Python 3 (ipykernel)",
   "language": "python",
   "name": "python3"
  },
  "language_info": {
   "codemirror_mode": {
    "name": "ipython",
    "version": 3
   },
   "file_extension": ".py",
   "mimetype": "text/x-python",
   "name": "python",
   "nbconvert_exporter": "python",
   "pygments_lexer": "ipython3",
   "version": "3.11.2"
  }
 },
 "nbformat": 4,
 "nbformat_minor": 5
}
