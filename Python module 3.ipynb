{
 "cells": [
  {
   "cell_type": "code",
   "execution_count": null,
   "id": "24e035a1",
   "metadata": {},
   "outputs": [],
   "source": [
    "# que:-1. What is List? How will you reverse a list?\n",
    "# -> A list is a value that contains multiple values in an ordered sequence.\n",
    "# we can reverse a list by using 'var.reverse()' method of list."
   ]
  },
  {
   "cell_type": "code",
   "execution_count": null,
   "id": "bde81385",
   "metadata": {},
   "outputs": [],
   "source": []
  },
  {
   "cell_type": "code",
   "execution_count": null,
   "id": "96841474",
   "metadata": {},
   "outputs": [],
   "source": [
    "#  que:-2. How will you remove last object from a list?\n",
    "# -> we can remove last object from a list by using 'var.pop()' method of list."
   ]
  },
  {
   "cell_type": "code",
   "execution_count": null,
   "id": "b70b8eb9",
   "metadata": {},
   "outputs": [],
   "source": []
  },
  {
   "cell_type": "code",
   "execution_count": null,
   "id": "aab3afea",
   "metadata": {},
   "outputs": [],
   "source": [
    "# que:-3. Suppose list1 is [2, 33, 222, 14, 25], what is list1 [-1]?\n",
    "# -> List[-1] is 25"
   ]
  },
  {
   "cell_type": "code",
   "execution_count": null,
   "id": "afa6049f",
   "metadata": {},
   "outputs": [],
   "source": []
  },
  {
   "cell_type": "code",
   "execution_count": null,
   "id": "69a0907d",
   "metadata": {},
   "outputs": [],
   "source": [
    "# que:-4. Differentiate between append () and extend () methods?\n",
    "# -> .append() adds a single element to the end of the list while .extend() can add multiple \n",
    "# individual elements to the end of the list"
   ]
  },
  {
   "cell_type": "code",
   "execution_count": null,
   "id": "383eefaf",
   "metadata": {},
   "outputs": [],
   "source": []
  },
  {
   "cell_type": "code",
   "execution_count": 15,
   "id": "3d4b14ac",
   "metadata": {},
   "outputs": [
    {
     "data": {
      "text/plain": [
       "(('the largest num is', 99),\n",
       " ('the smallest number is', 1),\n",
       " ('sum of all number is', 343))"
      ]
     },
     "execution_count": 15,
     "metadata": {},
     "output_type": "execute_result"
    }
   ],
   "source": [
    "# que:-5. Write a Python function to get the largest number,smallest num and sum of all from a list.\n",
    "def abc(x):\n",
    "    x.sort()\n",
    "    a = 'the largest num is',max(x)\n",
    "    b = 'the smallest number is',min(x)\n",
    "    c = 'sum of all number is',sum(x)\n",
    "    return a,b,c\n",
    "x=[1,2,3,45,78,96,99,12,1,6]\n",
    "\n",
    "abc(x)\n",
    "\n"
   ]
  },
  {
   "cell_type": "code",
   "execution_count": null,
   "id": "9b699545",
   "metadata": {},
   "outputs": [],
   "source": []
  },
  {
   "cell_type": "code",
   "execution_count": null,
   "id": "af38ff11",
   "metadata": {},
   "outputs": [],
   "source": [
    "# que:-6. How will you compare two lists?\n",
    "# -> The == operator compares the two lists item by item."
   ]
  },
  {
   "cell_type": "code",
   "execution_count": null,
   "id": "115ad451",
   "metadata": {},
   "outputs": [],
   "source": []
  },
  {
   "cell_type": "code",
   "execution_count": 20,
   "id": "dec1d782",
   "metadata": {},
   "outputs": [
    {
     "name": "stdout",
     "output_type": "stream",
     "text": [
      "enter the list in one line.\n",
      "everyone's mom is best mom\n",
      "['mom', 'mom']\n"
     ]
    }
   ],
   "source": [
    "# que:-7. Write a Python program to count the number of strings where the string length is 2 or more \n",
    "# and the first and last character are same from a given list of strings.\n",
    "str1=input('enter the list in one line.\\n')\n",
    "st1=str1.split()\n",
    "st2=[]\n",
    "for i in st1:\n",
    "    if len(i)>=2:\n",
    "        if i[0]==i[-1]:\n",
    "            st2+=[i]\n",
    "if st2==[]:\n",
    "    print()\n",
    "else:\n",
    "    print(st2)"
   ]
  },
  {
   "cell_type": "code",
   "execution_count": null,
   "id": "8d899e2a",
   "metadata": {},
   "outputs": [],
   "source": []
  },
  {
   "cell_type": "code",
   "execution_count": 21,
   "id": "6137d6d7",
   "metadata": {},
   "outputs": [
    {
     "name": "stdout",
     "output_type": "stream",
     "text": [
      "enter the list in one line.1 2 3 4 5 6 7 8 9 10 1 2 3 4 5 6 7 8 9 10 11\n",
      "[1, 2, 3, 4, 5, 6, 7, 8, 9, 10, 11]\n"
     ]
    }
   ],
   "source": [
    "# que:-8. Write a Python program to remove duplicates from a list.\n",
    "str1=input('enter the list in one line.')\n",
    "st1=str1.split()\n",
    "st2=[]\n",
    "t1=[]\n",
    "t2=[]\n",
    "for i in st1:\n",
    "    if i.isalpha() and i not in st2:\n",
    "        st2+=[i]\n",
    "    elif i.isdecimal():\n",
    "        st2+=[int(i)]\n",
    "for h in st2:\n",
    "    if h not in t1:\n",
    "        t1+=[h]\n",
    "print(t1)"
   ]
  },
  {
   "cell_type": "code",
   "execution_count": null,
   "id": "2c17c7a6",
   "metadata": {},
   "outputs": [],
   "source": []
  },
  {
   "cell_type": "code",
   "execution_count": 23,
   "id": "7aef602c",
   "metadata": {},
   "outputs": [
    {
     "name": "stdout",
     "output_type": "stream",
     "text": [
      "enter the list in one line.\n",
      "1\n",
      "False,list is not empty.\n",
      "['1']\n"
     ]
    }
   ],
   "source": [
    "# que:-9. Write a Python program to check a list is empty or not.\n",
    "l1=input('enter the list in one line.\\n')\n",
    "l2=l1.split()\n",
    "l3=[]\n",
    "if l2==l3:\n",
    "    print('True,list is empty.')\n",
    "else:\n",
    "    print('False,list is not empty.')\n",
    "print(l2)"
   ]
  },
  {
   "cell_type": "code",
   "execution_count": null,
   "id": "91b384b7",
   "metadata": {},
   "outputs": [],
   "source": []
  },
  {
   "cell_type": "code",
   "execution_count": 24,
   "id": "5b82c0c8",
   "metadata": {},
   "outputs": [
    {
     "name": "stdout",
     "output_type": "stream",
     "text": [
      "enter the first list in one line.\n",
      "1 2 3 4 5 6\n",
      "enter the second list in one line.\n",
      "7 8 9 10 1\n",
      "True\n"
     ]
    }
   ],
   "source": [
    "# que:-10. Write a Python function that takes two lists and returns true if they have at least one \n",
    "# common member.\n",
    "list1=input('enter the first list in one line.\\n')\n",
    "list2=input('enter the second list in one line.\\n')\n",
    "sl1=list1.split()\n",
    "sl2=list2.split()\n",
    "s=set(sl1)\n",
    "s1=set(sl2)\n",
    "if s.intersection(s1):\n",
    "    print(True)\n",
    "else:\n",
    "    print(False)"
   ]
  },
  {
   "cell_type": "code",
   "execution_count": null,
   "id": "76d18443",
   "metadata": {},
   "outputs": [],
   "source": []
  },
  {
   "cell_type": "code",
   "execution_count": 25,
   "id": "0a847470",
   "metadata": {},
   "outputs": [
    {
     "name": "stdout",
     "output_type": "stream",
     "text": [
      "[1, 4, 9, 16, 25, 676, 729, 784, 841, 900]\n"
     ]
    }
   ],
   "source": [
    "# que:-11. Write a Python program to generate and print a list of first and last 5 elements where \n",
    "# the values are square of numbers between 1 and 30.\n",
    "str1=[1,2,3,4,5,26,27,28,29,30]\n",
    "st=[]\n",
    "for i in str1:\n",
    "    for j in str1:\n",
    "        if j==i:\n",
    "            st+=[j*i]\n",
    "print(st)"
   ]
  },
  {
   "cell_type": "code",
   "execution_count": null,
   "id": "2e2d76ad",
   "metadata": {},
   "outputs": [],
   "source": []
  },
  {
   "cell_type": "code",
   "execution_count": 26,
   "id": "becb06e1",
   "metadata": {},
   "outputs": [
    {
     "name": "stdout",
     "output_type": "stream",
     "text": [
      "enter the list in one line.1 2 3 4 5 6 1 2 \n",
      "unique elements of the list. [1, 2, 3, 4, 5, 6]\n"
     ]
    }
   ],
   "source": [
    "# que:-12. Write a Python function that takes a list and returns a new list with unique elements of \n",
    "# the first list.\n",
    "str1=input('enter the list in one line.')\n",
    "st1=str1.split()\n",
    "st2=[]\n",
    "t1=[]\n",
    "t2=[]\n",
    "for i in st1:\n",
    "    if i.isalpha() and i not in st2:\n",
    "        st2+=[i]\n",
    "    elif i.isdecimal():\n",
    "        st2+=[int(i)]\n",
    "for h in st2:\n",
    "    if h not in t1:\n",
    "        t1+=[h]\n",
    "print('unique elements of the list.',t1)"
   ]
  },
  {
   "cell_type": "code",
   "execution_count": null,
   "id": "70e2275f",
   "metadata": {},
   "outputs": [],
   "source": []
  },
  {
   "cell_type": "code",
   "execution_count": 27,
   "id": "ab237c55",
   "metadata": {},
   "outputs": [
    {
     "name": "stdout",
     "output_type": "stream",
     "text": [
      "enter the list of characters.\n",
      "1 2 3 4 5 6 umang patel\n",
      "your list:- ['1', '2', '3', '4', '5', '6', 'umang', 'patel']\n",
      "answer:- 123456umangpatel\n"
     ]
    }
   ],
   "source": [
    "# que:-13. Write a Python program to convert a list of characters into a string.\n",
    "st1=input('enter the list of characters.\\n')\n",
    "st2=st1.split()\n",
    "st3=''\n",
    "for i in st2:\n",
    "    st3+=str(i)\n",
    "print('your list:-',st2)\n",
    "print('answer:-',st3)"
   ]
  },
  {
   "cell_type": "code",
   "execution_count": null,
   "id": "aaa4e0fa",
   "metadata": {},
   "outputs": [],
   "source": []
  },
  {
   "cell_type": "code",
   "execution_count": 32,
   "id": "72147926",
   "metadata": {},
   "outputs": [
    {
     "name": "stdout",
     "output_type": "stream",
     "text": [
      "enter the list of elemnets in one line.\n",
      "1 4 2 5 3 6\n",
      "list:- ['1', '4', '2', '5', '3', '6']\n",
      "answer:- 2\n"
     ]
    }
   ],
   "source": [
    "# que:-14. Write a Python program to select an item randomly from a list.\n",
    "st1=input('enter the list of elemnets in one line.\\n')\n",
    "st2=st1.split()\n",
    "st3=set(st2)\n",
    "st4=st3.pop()\n",
    "print('list:-',st2)\n",
    "print('answer:-',st4) "
   ]
  },
  {
   "cell_type": "code",
   "execution_count": null,
   "id": "6e9dc8bc",
   "metadata": {},
   "outputs": [],
   "source": []
  },
  {
   "cell_type": "code",
   "execution_count": 33,
   "id": "f082d9ef",
   "metadata": {},
   "outputs": [
    {
     "name": "stdout",
     "output_type": "stream",
     "text": [
      "enter the list of number in one line.\n",
      "1 2 3 4 5 6 7 8 9\n",
      "the smallest number:= 1\n",
      "the second smallest number:= 2\n"
     ]
    }
   ],
   "source": [
    "# que:-15. Write a Python program to find the second smallest number in a list.\n",
    "st=input('enter the list of number in one line.\\n')\n",
    "st1=st.split()\n",
    "st2=[]\n",
    "s=0\n",
    "for i in st1:\n",
    "    st2+=[int(i)]\n",
    "st3=st2[1:]\n",
    "s=st2[0]\n",
    "for h in st3:\n",
    "    if h<s:\n",
    "        s=h\n",
    "st2.remove(s)\n",
    "h1=st2[1:]\n",
    "s1=st2[0]\n",
    "for h1 in st2:\n",
    "    if h1<s1:\n",
    "        s1=h1\n",
    "print('the smallest number:=',s)\n",
    "print('the second smallest number:=',s1)"
   ]
  },
  {
   "cell_type": "code",
   "execution_count": null,
   "id": "61ac6843",
   "metadata": {},
   "outputs": [],
   "source": []
  },
  {
   "cell_type": "code",
   "execution_count": 34,
   "id": "cb5745b2",
   "metadata": {},
   "outputs": [
    {
     "name": "stdout",
     "output_type": "stream",
     "text": [
      "enter the list in one line.1 2 3 4 5 6 1 2 3 7 8 9 4 5 10\n",
      "unique vqlues:- [1, 2, 3, 4, 5, 6, 7, 8, 9, 10]\n"
     ]
    }
   ],
   "source": [
    "# que:-16. Write a Python program to get unique values from a list.\n",
    "str1=input('enter the list in one line.')\n",
    "st1=str1.split()\n",
    "st2=[]\n",
    "t1=[]\n",
    "t2=[]\n",
    "for i in st1:\n",
    "    if i.isalpha() and i not in st2:\n",
    "        st2+=[i] \n",
    "    elif i.isdecimal():\n",
    "        st2+=[int(i)]\n",
    "for h in st2:\n",
    "    if h not in t1:\n",
    "        t1+=[h]\n",
    "print('unique vqlues:-',t1)"
   ]
  },
  {
   "cell_type": "code",
   "execution_count": null,
   "id": "378745c4",
   "metadata": {},
   "outputs": [],
   "source": []
  },
  {
   "cell_type": "code",
   "execution_count": 37,
   "id": "7cc5030c",
   "metadata": {},
   "outputs": [
    {
     "name": "stdout",
     "output_type": "stream",
     "text": [
      "True\n"
     ]
    }
   ],
   "source": [
    "# que:-17. Write a Python program to check whether a list contains a sub list.\n",
    "str1=[12,'abc',1.2,True,[12,3.5,88],'xyz',[12,15,False]]\n",
    "s=[]\n",
    "for i in str1:\n",
    "    if type(i)==list:\n",
    "        s+=[i]\n",
    "if s==[]:\n",
    "    print(False)\n",
    "else:\n",
    "    print(True)"
   ]
  },
  {
   "cell_type": "code",
   "execution_count": null,
   "id": "2c77133c",
   "metadata": {},
   "outputs": [],
   "source": []
  },
  {
   "cell_type": "code",
   "execution_count": 44,
   "id": "f5b72e97",
   "metadata": {},
   "outputs": [
    {
     "name": "stdout",
     "output_type": "stream",
     "text": [
      "2.5\n"
     ]
    }
   ],
   "source": [
    "# que:-18. Write a Python program to split a list into different variables.\n",
    "str1=[1,True,2.5,'abc',15,'xyz']\n",
    "str2=tuple(str1)\n",
    "var1,var2,var3,var4,var5,var6=str2\n",
    "print(var3)"
   ]
  },
  {
   "cell_type": "code",
   "execution_count": null,
   "id": "f5695bd7",
   "metadata": {},
   "outputs": [],
   "source": []
  },
  {
   "cell_type": "code",
   "execution_count": 45,
   "id": "a7366878",
   "metadata": {},
   "outputs": [],
   "source": [
    "# que:-19. What is tuple? Difference between list and tuple.\n",
    "# -> Tuples are used to store multiple items in a single variable.\n",
    "# The primary difference between tuples and lists is that tuples are immutable as opposed \n",
    "# to lists which are mutable."
   ]
  },
  {
   "cell_type": "code",
   "execution_count": null,
   "id": "c3a30e94",
   "metadata": {},
   "outputs": [],
   "source": []
  },
  {
   "cell_type": "code",
   "execution_count": 46,
   "id": "151532ce",
   "metadata": {},
   "outputs": [
    {
     "name": "stdout",
     "output_type": "stream",
     "text": [
      "(12, 'abc', 1.2, True, {'xyz', 85, 15}, [12, 3.5, 88], 'xyz', (12, 15, False), {12: 4, 'abc': 12, 1.5: 0}, 14)\n"
     ]
    }
   ],
   "source": [
    "# que:-20. Write a Python program to create a tuple with different data types.\n",
    "str1=[12,'abc',1.2,True,{15,85,'xyz'},[12,3.5,88],'xyz',(12,15,False),{12:4,'abc':12,1.5:0},14]\n",
    "st1=tuple(str1)\n",
    "print(st1)"
   ]
  },
  {
   "cell_type": "code",
   "execution_count": null,
   "id": "54524c44",
   "metadata": {},
   "outputs": [],
   "source": []
  },
  {
   "cell_type": "code",
   "execution_count": 47,
   "id": "5c882a8e",
   "metadata": {},
   "outputs": [
    {
     "name": "stdout",
     "output_type": "stream",
     "text": [
      "enter the list in one line.1 2 3 45 6 7 8 9\n",
      "(1, 2, 3, 45, 6, 7, 8, 9)\n"
     ]
    }
   ],
   "source": [
    "# que:- 21. Write a Python program to create a tuple with numbers.\n",
    "tp1=[]\n",
    "st=input('enter the list in one line.')\n",
    "tp=st.split()\n",
    "for i in tp:\n",
    "    tp1+=[int(i)]\n",
    "tp2=tuple(tp1)\n",
    "print(tp2)"
   ]
  },
  {
   "cell_type": "code",
   "execution_count": null,
   "id": "8e3dbeaa",
   "metadata": {},
   "outputs": [],
   "source": []
  },
  {
   "cell_type": "code",
   "execution_count": 49,
   "id": "25fd8302",
   "metadata": {},
   "outputs": [
    {
     "name": "stdout",
     "output_type": "stream",
     "text": [
      "12hi2.5abc100xyz\n"
     ]
    }
   ],
   "source": [
    "# que:- 22. Write a Python program to convert a tuple to a string.\n",
    "str1=(12,'hi',2.5,'abc',100,'xyz')\n",
    "st3=''\n",
    "for i in str1:\n",
    "    st3+=str(i)\n",
    "print(st3)"
   ]
  },
  {
   "cell_type": "code",
   "execution_count": null,
   "id": "7db9a551",
   "metadata": {},
   "outputs": [],
   "source": []
  },
  {
   "cell_type": "code",
   "execution_count": 50,
   "id": "8a4fe6a3",
   "metadata": {},
   "outputs": [
    {
     "name": "stdout",
     "output_type": "stream",
     "text": [
      "True\n"
     ]
    }
   ],
   "source": [
    "# que:- 23. Write a Python program to check whether an element exists within a tuple.\n",
    "str1=('hi',12,1.555,False,[12,45,88,'abc'],{15,15.2,16},'xyz')\n",
    "str2=False\n",
    "if str2 in str1:\n",
    "    print(True)\n",
    "else:\n",
    "    print(False)"
   ]
  },
  {
   "cell_type": "code",
   "execution_count": null,
   "id": "a55bb64f",
   "metadata": {},
   "outputs": [],
   "source": []
  },
  {
   "cell_type": "code",
   "execution_count": 51,
   "id": "5975b0ad",
   "metadata": {},
   "outputs": [
    {
     "name": "stdout",
     "output_type": "stream",
     "text": [
      "7\n"
     ]
    }
   ],
   "source": [
    "# que:- 24. Write a Python program to find the length of a tuple.\n",
    "str1=('hi',12,1.555,False,[12,45,88,'raj'],{15,15.2,16},'jay')\n",
    "st=len(str1)\n",
    "print(st)"
   ]
  },
  {
   "cell_type": "code",
   "execution_count": null,
   "id": "5aa8e9ed",
   "metadata": {},
   "outputs": [],
   "source": []
  },
  {
   "cell_type": "code",
   "execution_count": 54,
   "id": "d39009db",
   "metadata": {},
   "outputs": [
    {
     "name": "stdout",
     "output_type": "stream",
     "text": [
      "('hi', True, 'ramesh', [12, 'suresh'], 444, ('a', 'b'), {10.5, 15.5}, 'goli')\n"
     ]
    }
   ],
   "source": [
    "# que:- 25. Write a Python program to convert a list to a tuple.\n",
    "str1=['hi',True,'ramesh',[12,'suresh'],444,('a','b'),{15.5,10.5},'goli']\n",
    "str2=tuple(str1)\n",
    "print(str2)"
   ]
  },
  {
   "cell_type": "code",
   "execution_count": null,
   "id": "12bcb32a",
   "metadata": {},
   "outputs": [],
   "source": []
  },
  {
   "cell_type": "code",
   "execution_count": 55,
   "id": "5ff85340",
   "metadata": {},
   "outputs": [
    {
     "name": "stdout",
     "output_type": "stream",
     "text": [
      "('goli', {10.5, 15.5}, ('a', 'b'), 444, [12, 'sonu'], 'tapu', True, 'hi')\n"
     ]
    }
   ],
   "source": [
    "# que:- 26. Write a Python program to reverse a tuple.\n",
    "str1=('hi',True,'tapu',[12,'sonu'],444,('a','b'),{15.5,10.5},'goli')\n",
    "str2=list(str1)\n",
    "str2.reverse()\n",
    "str1=tuple(str2)\n",
    "print(str1)"
   ]
  },
  {
   "cell_type": "code",
   "execution_count": null,
   "id": "ab1a6b33",
   "metadata": {},
   "outputs": [],
   "source": []
  },
  {
   "cell_type": "code",
   "execution_count": 56,
   "id": "3e9252d3",
   "metadata": {},
   "outputs": [
    {
     "name": "stdout",
     "output_type": "stream",
     "text": [
      "enter the input.\n",
      "1 2 3\n",
      "[('hi', True, '1 2 3'), (2.5, [12, 'xyz'], '1 2 3'), ('a', '1 2 3'), (15, '1 2 3')]\n"
     ]
    }
   ],
   "source": [
    "# que:- 27. Write a Python program to replace last value of tuples in a list.\n",
    "str1=[('hi',True,'abc'),(2.5,[12,'xyz'],444),('a','b'),(15,False)]\n",
    "l1=[]\n",
    "l2=[]\n",
    "k1=input('enter the input.\\n')\n",
    "for i in str1:\n",
    "    l1+=[list(i)]\n",
    "for i1 in l1:\n",
    "    i1.remove(i1[-1])\n",
    "    i1.append(k1)\n",
    "l3=list(map(tuple,l1))\n",
    "print(l3)"
   ]
  },
  {
   "cell_type": "code",
   "execution_count": null,
   "id": "c510bd1f",
   "metadata": {},
   "outputs": [],
   "source": []
  },
  {
   "cell_type": "code",
   "execution_count": 57,
   "id": "6a932a65",
   "metadata": {},
   "outputs": [
    {
     "name": "stdout",
     "output_type": "stream",
     "text": [
      "your repeated item of tuple:- [45, 'abc', 'xyz']\n"
     ]
    }
   ],
   "source": [
    "# que:- 28. Write a Python program to find the repeated items of a tuple.\n",
    "str1=(12,45,'abc',45,'abc','xyz','xyz',5,20,45)\n",
    "str2=list(str1)\n",
    "str3=[]\n",
    "str4=[]\n",
    "str5=[]\n",
    "for i in str2:\n",
    "    if i not in str3:\n",
    "        str3+=[i]\n",
    "    else:\n",
    "        str4+=[i]\n",
    "for h in str4:\n",
    "    if h not in str5:\n",
    "        str5+=[h]\n",
    "print('your repeated item of tuple:-',str5)"
   ]
  },
  {
   "cell_type": "code",
   "execution_count": null,
   "id": "e60f17ca",
   "metadata": {},
   "outputs": [],
   "source": []
  },
  {
   "cell_type": "code",
   "execution_count": 1,
   "id": "dadf4939",
   "metadata": {},
   "outputs": [
    {
     "name": "stdout",
     "output_type": "stream",
     "text": [
      "((1, 2, 45, 55), {}, ['abc', 'xyz'], [], 2, 78, 8.2, 'xyz', {1, 5, 6})\n"
     ]
    }
   ],
   "source": [
    "# que:-29. Write a Python program to remove an empty tuple(s) from a list of tuples.\n",
    "tp=((1,2,45,55,),{},['abc','xyz'],(),[],2,78,8.2,(),'xyz',{1,5,6})\n",
    "tp1=()\n",
    "tp2=[]\n",
    "tp3=[]\n",
    "for i in tp:\n",
    "    if i==tp1:\n",
    "        tp2+=[i]\n",
    "    else:\n",
    "        tp3+=[i]\n",
    "tp4=tuple(tp3)\n",
    "print(tp4)"
   ]
  },
  {
   "cell_type": "code",
   "execution_count": null,
   "id": "bb160f1e",
   "metadata": {},
   "outputs": [],
   "source": []
  },
  {
   "cell_type": "code",
   "execution_count": 4,
   "id": "8ed9399b",
   "metadata": {},
   "outputs": [
    {
     "name": "stdout",
     "output_type": "stream",
     "text": [
      "['A', 'B', 'C', 'D', 'E', 'F', 'G', 'H']\n",
      "enter the variable name, from given list of variable.:-E\n",
      "the value of E is- [78, 8.2]\n"
     ]
    }
   ],
   "source": [
    "# que:-30. Write a Python program to unzip a list of tuples into individual lists.\n",
    "tp=[(1,2),(45,55),('abc','xyz'),(2,2),(78,8.2),('xyz',{1,5,6}),(1,2,3,),(45,'LAL',45)]\n",
    "tp1=list(map(list,tp))\n",
    "p=len(tp1)\n",
    "p1=65\n",
    "p2=p1+p\n",
    "a1=[]\n",
    "for i in range(p1,p2):\n",
    "    a1+=[(chr(i))]\n",
    "a2=list(zip(a1,tp1))\n",
    "a3=dict(a2)\n",
    "print(a1)\n",
    "a4=input('enter the variable name, from given list of variable.:-')\n",
    "a5=a3.get(a4)\n",
    "print('the value of',a4,'is-',a5)"
   ]
  },
  {
   "cell_type": "code",
   "execution_count": null,
   "id": "d9b88ee7",
   "metadata": {},
   "outputs": [],
   "source": []
  },
  {
   "cell_type": "code",
   "execution_count": 6,
   "id": "6dcdbcd1",
   "metadata": {},
   "outputs": [
    {
     "name": "stdout",
     "output_type": "stream",
     "text": [
      "{1: 2, 45: 55, 'abc': 'xyz', 2: 2, 78: 8.2, 'xyz': {1, 5, 6}}\n"
     ]
    }
   ],
   "source": [
    "# que:-31. Write a Python program to convert a list of tuples into a dictionary.\n",
    "dc1=[(1,2),(45,55,),('abc','xyz'),(2,2),(78,8.2),('xyz',{1,5,6})]\n",
    "dc2=dict(dc1)\n",
    "print(dc2)"
   ]
  },
  {
   "cell_type": "code",
   "execution_count": null,
   "id": "c531fbd9",
   "metadata": {},
   "outputs": [],
   "source": []
  },
  {
   "cell_type": "code",
   "execution_count": 7,
   "id": "3e80bff1",
   "metadata": {},
   "outputs": [],
   "source": [
    "# que:-32. How will you create a dictionary using tuples in python?\n",
    "# -> we can use the list of tuples in which every tuple contains key-value pair, and simply just \n",
    "# typecast that list to dictionary."
   ]
  },
  {
   "cell_type": "code",
   "execution_count": null,
   "id": "60a547fc",
   "metadata": {},
   "outputs": [],
   "source": []
  },
  {
   "cell_type": "code",
   "execution_count": 10,
   "id": "5dbb3461",
   "metadata": {},
   "outputs": [
    {
     "name": "stdout",
     "output_type": "stream",
     "text": [
      "ascending order:- {77: 5, 45: 15, 89: 66}\n",
      "descending order:- {89: 66, 45: 15, 77: 5}\n"
     ]
    }
   ],
   "source": [
    "# que:-33. Write a Python script to sort (ascending and descending) a dictionary by value.\n",
    "l1={45:15,77:5,89:66}\n",
    "v=list(l1.items())\n",
    "v.sort(key=lambda a: a[-1] )\n",
    "v1=dict(v)\n",
    "print('ascending order:-',v1)\n",
    "v2=v.copy()\n",
    "v2.sort(key=lambda a: a[-1],reverse=True )\n",
    "v3=dict(v2)\n",
    "print('descending order:-',v3)"
   ]
  },
  {
   "cell_type": "code",
   "execution_count": null,
   "id": "141c6ebb",
   "metadata": {},
   "outputs": [],
   "source": []
  },
  {
   "cell_type": "code",
   "execution_count": 11,
   "id": "948bf946",
   "metadata": {},
   "outputs": [
    {
     "name": "stdout",
     "output_type": "stream",
     "text": [
      "{'a': 1, 'b': 2, 'c': 3, 'd': 4, 'e': 5, 'f': 6, 'g': 7, 'h': 8, 'i': 9}\n"
     ]
    }
   ],
   "source": [
    "# que:-34. Write a Python script to concatenate following dictionaries to create a new one.\n",
    "dc1={'a':1,'b':2,'c':3}\n",
    "dc2={'d':4,'e':5,'f':6}\n",
    "dc3={'g':7,'h':8,'i':9}\n",
    "l=[dc1,dc2,dc3]\n",
    "dc={}\n",
    "for i in l:\n",
    "    dc.update(i)\n",
    "print(dc)"
   ]
  },
  {
   "cell_type": "code",
   "execution_count": null,
   "id": "22ab760f",
   "metadata": {},
   "outputs": [],
   "source": []
  },
  {
   "cell_type": "code",
   "execution_count": 13,
   "id": "33e3598f",
   "metadata": {},
   "outputs": [
    {
     "name": "stdout",
     "output_type": "stream",
     "text": [
      "enter the key.\n",
      "k\n",
      "False\n"
     ]
    }
   ],
   "source": [
    "# que:-35. Write a Python script to check if a given key already exists in a dictionary.\n",
    "dc={'a': 1, 'b': 2, 'c': 3, 'd': 4, 'e': 5, 'f': 6, 'g': 7, 'h': 8, 'i': 9,'g': 127}\n",
    "key=input('enter the key.\\n')\n",
    "if key in dc:\n",
    "    print('True')\n",
    "else:\n",
    "    print('False')"
   ]
  },
  {
   "cell_type": "code",
   "execution_count": null,
   "id": "d49142c7",
   "metadata": {},
   "outputs": [],
   "source": []
  },
  {
   "cell_type": "code",
   "execution_count": 14,
   "id": "74a8ac47",
   "metadata": {},
   "outputs": [],
   "source": [
    "# que:-36. How Do You Traverse Through A Dictionary Object In Python?\n",
    "# -> traversing Through .items() or .keys() or .values() in a dictionary object."
   ]
  },
  {
   "cell_type": "code",
   "execution_count": null,
   "id": "67f56c3e",
   "metadata": {},
   "outputs": [],
   "source": []
  },
  {
   "cell_type": "code",
   "execution_count": null,
   "id": "7c54fb49",
   "metadata": {},
   "outputs": [],
   "source": [
    "# que:-37. How Do You Check The Presence Of A Key In A Dictionary?\n",
    "# -> we can check the presence of a key in a dictionary by using 'in' membership operator."
   ]
  },
  {
   "cell_type": "code",
   "execution_count": null,
   "id": "52e12243",
   "metadata": {},
   "outputs": [],
   "source": []
  },
  {
   "cell_type": "code",
   "execution_count": 16,
   "id": "eb8e55ae",
   "metadata": {},
   "outputs": [
    {
     "name": "stdout",
     "output_type": "stream",
     "text": [
      "{2: 12, 3: 19, 4: 20, 15: 22, 10: 30}\n"
     ]
    }
   ],
   "source": [
    "# que:-38. Write a Python script to print a dictionary where the keys are numbers between 1 and 15.\n",
    "dic={44:56,2:12,3:19,4:20,40:30,15:22,10:30}\n",
    "d={}\n",
    "for i in dic:\n",
    "    if i in range(1,16):\n",
    "        d1=dic.get(i)\n",
    "        d.update([(i,d1)])\n",
    "print(d)"
   ]
  },
  {
   "cell_type": "code",
   "execution_count": null,
   "id": "a437198b",
   "metadata": {},
   "outputs": [],
   "source": []
  },
  {
   "cell_type": "code",
   "execution_count": 18,
   "id": "b654ee62",
   "metadata": {},
   "outputs": [
    {
     "name": "stdout",
     "output_type": "stream",
     "text": [
      "there is multiple keys in {44: 56, 2: 12, 3: 19, 4: 20}\n",
      "there is multiple keys in {4.5: 16, 77: 62, 52: 12}\n"
     ]
    }
   ],
   "source": [
    "# que:-39. Write a Python program to check multiple keys exists in a dictionary\n",
    "dict1={'xyz':45}\n",
    "dict2={44:56,2:12,3:19,4:20}\n",
    "dict3={4.5:16,77:62,52:12}\n",
    "d=[dict1,dict2,dict3]\n",
    "for  i in d:\n",
    "    if len(i)>1:\n",
    "        print('there is multiple keys in',i)"
   ]
  },
  {
   "cell_type": "code",
   "execution_count": null,
   "id": "ad09443c",
   "metadata": {},
   "outputs": [],
   "source": []
  },
  {
   "cell_type": "code",
   "execution_count": 19,
   "id": "77c2a1fb",
   "metadata": {},
   "outputs": [
    {
     "name": "stdout",
     "output_type": "stream",
     "text": [
      "{44: 56, 2: 12, 3: 19, 4: 20, 4.5: 16, 77: 62, 52: 12}\n"
     ]
    }
   ],
   "source": [
    "# que:-40. Write a Python script to merge two Python dictionaries.\n",
    "dict1={44:56,2:12,3:19,4:20}\n",
    "dict2={4.5:16,77:62,52:12}\n",
    "dict1.update(dict2)\n",
    "print(dict1)"
   ]
  },
  {
   "cell_type": "code",
   "execution_count": null,
   "id": "ad98b95e",
   "metadata": {},
   "outputs": [],
   "source": []
  },
  {
   "cell_type": "code",
   "execution_count": 20,
   "id": "6c1f0c57",
   "metadata": {},
   "outputs": [
    {
     "name": "stdout",
     "output_type": "stream",
     "text": [
      "{'a': 1, 'b': 2, 'c': 4, 'd': 5, 'e': 6, 'f': 3, 'g': 7}\n"
     ]
    }
   ],
   "source": [
    "# que:-41. Write a Python program to map two lists into a dictionary.\n",
    "l1=['a','b','c','d','e','f','g']\n",
    "l2=[1, 2, 4, 5, 6, 3, 7]\n",
    "d1=dict(zip(l1,l2))\n",
    "print(d1)"
   ]
  },
  {
   "cell_type": "code",
   "execution_count": null,
   "id": "76eed1f0",
   "metadata": {},
   "outputs": [],
   "source": []
  },
  {
   "cell_type": "code",
   "execution_count": 21,
   "id": "66f93630",
   "metadata": {},
   "outputs": [
    {
     "name": "stdout",
     "output_type": "stream",
     "text": [
      "{'a': 400, 'b': 400, 'c': 300, 'd': 550, 'e': 200}\n"
     ]
    }
   ],
   "source": [
    "# que:-42. Write a Python program to combine two dictionary adding values for common keys.\n",
    "d1 = {'a': 100, 'b': 200, 'c':300,'d':150,'e':200}\n",
    "d2 = {'a': 300, 'b': 200,'d':400}\n",
    "d3={}\n",
    "for i in d1:\n",
    "    for h in d2:\n",
    "        if i==h:\n",
    "            b1=d1.get(i)\n",
    "            b2=d2.get(h)\n",
    "            b=b1+b2\n",
    "            d1.update([(i,b)])\n",
    "for h in d2:\n",
    "    if h not in d3:\n",
    "        c=d2.get(h)\n",
    "        d1.setdefault(h,c)\n",
    "print(d1)"
   ]
  },
  {
   "cell_type": "code",
   "execution_count": null,
   "id": "6dd7cfea",
   "metadata": {},
   "outputs": [],
   "source": []
  },
  {
   "cell_type": "code",
   "execution_count": 22,
   "id": "c6cea19f",
   "metadata": {},
   "outputs": [
    {
     "name": "stdout",
     "output_type": "stream",
     "text": [
      "[15, 56, 16, 49, 77]\n"
     ]
    }
   ],
   "source": [
    "# que:-43. Write a Python program to print all unique values in a dictionary.\n",
    "dic1={'a':15,'b':56,'c':16,'d':49,'e':56,'f':77}\n",
    "l1=list(dic1.values())\n",
    "l2=[]\n",
    "for i in l1:\n",
    "    if i not in l2:\n",
    "        l2+=[i]\n",
    "print(l2)"
   ]
  },
  {
   "cell_type": "code",
   "execution_count": null,
   "id": "dff2935c",
   "metadata": {},
   "outputs": [],
   "source": []
  },
  {
   "cell_type": "code",
   "execution_count": 23,
   "id": "2405eadd",
   "metadata": {},
   "outputs": [],
   "source": [
    "# que:-44. Why Do You Use the Zip () Method in Python?\n",
    "# -> When you use the zip() function in Python, it takes two or more data sets and \"zips\" them \n",
    "# together. This returns an object containing pairs of items derived from the data sets."
   ]
  },
  {
   "cell_type": "code",
   "execution_count": null,
   "id": "b10ac362",
   "metadata": {},
   "outputs": [],
   "source": []
  },
  {
   "cell_type": "code",
   "execution_count": 24,
   "id": "a565abff",
   "metadata": {},
   "outputs": [
    {
     "name": "stdout",
     "output_type": "stream",
     "text": [
      "ac\n",
      "ad\n",
      "bc\n",
      "bd\n"
     ]
    }
   ],
   "source": [
    "# que:-45. Write a Python program to create and display all combinations of letters,selecting each \n",
    "# letter from a different key in a dictionary. Sample data: {'1': ['a','b'], '2': ['c','d']}\n",
    "l1={'1': ['a','b'], '2': ['c','d']}\n",
    "l2=list(l1.values())\n",
    "for i in l2[0]:\n",
    "    for h in l2[1]:\n",
    "        print(i,h,sep='')"
   ]
  },
  {
   "cell_type": "code",
   "execution_count": null,
   "id": "3d81a573",
   "metadata": {},
   "outputs": [],
   "source": []
  },
  {
   "cell_type": "code",
   "execution_count": 25,
   "id": "6d31a090",
   "metadata": {},
   "outputs": [
    {
     "name": "stdout",
     "output_type": "stream",
     "text": [
      "[78, 48, 15]\n"
     ]
    }
   ],
   "source": [
    "# que:-46. Write a Python program to find the highest 3 values in a dictionary.\n",
    "x={1:78,'l':48,'g':12,4:15,2:8}\n",
    "s=list(x.values())\n",
    "s1=s.sort(reverse=True)\n",
    "print(s[0:3])"
   ]
  },
  {
   "cell_type": "code",
   "execution_count": null,
   "id": "eb60e7a7",
   "metadata": {},
   "outputs": [],
   "source": []
  },
  {
   "cell_type": "code",
   "execution_count": 26,
   "id": "33cba452",
   "metadata": {},
   "outputs": [
    {
     "name": "stdout",
     "output_type": "stream",
     "text": [
      "{'item1': 1150, 'item2': 300}\n"
     ]
    }
   ],
   "source": [
    "# que:-47. Write a Python program to combine values in python list of dictionaries.\n",
    "# Sample data: [{'item': 'item1', 'amount': 400}, {'item': 'item2', 'amount':300},\n",
    "# {'item': 'item1', 'amount': 750}]\n",
    "n=[{'item': 'item1', 'amount': 400}, {'item': 'item2', 'amount':300},{'item': 'item1', 'amount': 750}]\n",
    "h=[]\n",
    "h1=[]\n",
    "h2=[]\n",
    "d1={}\n",
    "d2={}\n",
    "for i in n:\n",
    "    h+=[tuple(i.values())]\n",
    "for i1 in h:\n",
    "    if i1[0] not in h1[0:2]:\n",
    "        h1+=i1\n",
    "    if i1[0] in h1[0:2]:\n",
    "        h2=i1\n",
    "    d1.setdefault(i1[0],i1[1])\n",
    "d2.setdefault(h2[0],h2[1])\n",
    "for j in d1:\n",
    "    for j1 in d2:\n",
    "        if j==j1:\n",
    "            a=d1.get(j)\n",
    "            a1=d2.get(j1)\n",
    "            a2=a+a1\n",
    "            d1.update([(j,a2)])\n",
    "print(d1)"
   ]
  },
  {
   "cell_type": "code",
   "execution_count": null,
   "id": "bea1827c",
   "metadata": {},
   "outputs": [],
   "source": []
  },
  {
   "cell_type": "code",
   "execution_count": 28,
   "id": "83f1b305",
   "metadata": {},
   "outputs": [
    {
     "name": "stdout",
     "output_type": "stream",
     "text": [
      "{'w': 1, '3': 1, 'r': 2, 'e': 2, 's': 1, 'o': 1, 'u': 1, 'c': 1}\n"
     ]
    }
   ],
   "source": [
    "# que:-48. Write a Python program to create a dictionary from a string.\n",
    "# Note: Track the count of the letters from the string. Sample string:'w3resource'\n",
    "# Expected output: {'3': 1,’s’: 1, 'r': 2, 'u': 1, 'w': 1, 'c': 1, 'e': 2, 'o': 1}\n",
    "str1='w3resource'\n",
    "st1=[]\n",
    "st2=[]\n",
    "for i in str1:\n",
    "    if i not in st1:\n",
    "        st1+=[i]\n",
    "for h in st1:\n",
    "    q=str1.count(h)\n",
    "    st2+=[(h,q)]\n",
    "st3=dict(st2)\n",
    "print(st3)"
   ]
  },
  {
   "cell_type": "code",
   "execution_count": null,
   "id": "7e219ee5",
   "metadata": {},
   "outputs": [],
   "source": []
  },
  {
   "cell_type": "code",
   "execution_count": 31,
   "id": "60ddf6df",
   "metadata": {},
   "outputs": [
    {
     "name": "stdout",
     "output_type": "stream",
     "text": [
      "enter any number:-5\n",
      "answer:- 120\n"
     ]
    }
   ],
   "source": [
    "# que:-49. Write a Python function to calculate the factorial of a number (a nonnegative integer).\n",
    "def fact(num):\n",
    "    if num==1:\n",
    "        return num\n",
    "    else:\n",
    "        return num * fact(num-1)\n",
    "b=fact(int(input('enter any number:-')))\n",
    "print('answer:-',b)"
   ]
  },
  {
   "cell_type": "code",
   "execution_count": null,
   "id": "3e2dd04d",
   "metadata": {},
   "outputs": [],
   "source": []
  },
  {
   "cell_type": "code",
   "execution_count": 35,
   "id": "fa67fee1",
   "metadata": {},
   "outputs": [
    {
     "name": "stdout",
     "output_type": "stream",
     "text": [
      "enter any number between 1 to 10.\n",
      "5\n",
      "5 is in range.\n",
      "True\n"
     ]
    }
   ],
   "source": [
    "# que:-50. Write a Python function to check whether a number is in a given range.\n",
    "def r1(a):\n",
    "    if a in range(1,11):\n",
    "        print(a,'is in range.')\n",
    "        return True\n",
    "    else:\n",
    "        print(a,'is not in range.')\n",
    "        return False\n",
    "a1=r1(int(input('enter any number between 1 to 10.\\n')))\n",
    "print(a1)"
   ]
  },
  {
   "cell_type": "code",
   "execution_count": null,
   "id": "4651055a",
   "metadata": {},
   "outputs": [],
   "source": []
  },
  {
   "cell_type": "code",
   "execution_count": 48,
   "id": "9db8a343",
   "metadata": {},
   "outputs": [
    {
     "name": "stdout",
     "output_type": "stream",
     "text": [
      "enter any number.3\n",
      "3 is perfect number, 2 is the number when sum of 2 equals 3 .\n",
      "True\n"
     ]
    }
   ],
   "source": [
    "# que:-51. Write a Python function to check whether a number is perfect or not.\n",
    "def p1(num):\n",
    "    n1=0\n",
    "    for i in range(num+1):\n",
    "        n1=n1+i\n",
    "        if i<n1 and n1==num:\n",
    "            print(num,'is perfect number,',i,'is the number when sum of',i,'equals',num,'.')\n",
    "            return True \n",
    "        elif i==num: \n",
    "            print(num,'is not perfect number.')\n",
    "            return False\n",
    "a1=p1(int(input('enter any number.')))\n",
    "print(a1)"
   ]
  },
  {
   "cell_type": "code",
   "execution_count": null,
   "id": "300c71fd",
   "metadata": {},
   "outputs": [],
   "source": []
  },
  {
   "cell_type": "code",
   "execution_count": 53,
   "id": "b3c12540",
   "metadata": {},
   "outputs": [
    {
     "name": "stdout",
     "output_type": "stream",
     "text": [
      "enter the string.\n",
      "patelletap\n",
      "patelletap is palindrome.\n",
      "True\n"
     ]
    }
   ],
   "source": [
    "# que:-52. Write a Python function that checks whether a passed string is palindrome or not.\n",
    "def st(a):\n",
    "    a1=a[::-1]\n",
    "    if a==a1:\n",
    "        print(a,'is palindrome.')\n",
    "        return True\n",
    "    else:\n",
    "        print(a,'is not palindrome.')\n",
    "        return False\n",
    "a2=st(input('enter the string.\\n'))\n",
    "print(a2)"
   ]
  },
  {
   "cell_type": "code",
   "execution_count": null,
   "id": "2d17a219",
   "metadata": {},
   "outputs": [],
   "source": []
  },
  {
   "cell_type": "code",
   "execution_count": 54,
   "id": "e5eb3108",
   "metadata": {},
   "outputs": [],
   "source": [
    "# que:-53. How do you perform pattern matching in Python? Explain.\n",
    "# -> we can match the pattern in python by using 'for' and 'while' loop and 'recurrence.'"
   ]
  },
  {
   "cell_type": "code",
   "execution_count": null,
   "id": "adcada6d",
   "metadata": {},
   "outputs": [],
   "source": []
  },
  {
   "cell_type": "code",
   "execution_count": 55,
   "id": "76c564c5",
   "metadata": {},
   "outputs": [],
   "source": [
    "# que:-54. What is lambda function in python? What we call a function which is incomplete \n",
    "# version of a function?\n",
    "# -> Lambda Function, also referred to as 'Anonymous function' is same as a regular python function \n",
    "#    but can be defined without a name. While normal functions are defined using the def keyword, \n",
    "#    anonymous functions are defined using the lambda keyword."
   ]
  },
  {
   "cell_type": "code",
   "execution_count": null,
   "id": "62a3bd69",
   "metadata": {},
   "outputs": [],
   "source": []
  },
  {
   "cell_type": "code",
   "execution_count": 56,
   "id": "1ba21d79",
   "metadata": {},
   "outputs": [],
   "source": [
    "# que:-55. How Many Basic Types Of Functions Are Available In Python?\n",
    "# Function Types\n",
    "# 1. User Defined\n",
    "# 2. Built In (already defined)\n",
    "# 3. Anonymous function / lambda function"
   ]
  },
  {
   "cell_type": "code",
   "execution_count": null,
   "id": "b088287c",
   "metadata": {},
   "outputs": [],
   "source": []
  },
  {
   "cell_type": "code",
   "execution_count": null,
   "id": "db247995",
   "metadata": {},
   "outputs": [],
   "source": [
    "\n",
    "# que:-56. How can you pick a random item from a list or tuple?\n",
    "# -> we can typecast a list or tuple in to a set, then by using .pop() method, can pick a random item."
   ]
  },
  {
   "cell_type": "code",
   "execution_count": null,
   "id": "ff57ff35",
   "metadata": {},
   "outputs": [],
   "source": []
  },
  {
   "cell_type": "code",
   "execution_count": 57,
   "id": "0650abf5",
   "metadata": {},
   "outputs": [],
   "source": [
    "# que:-57. How can you pick a random item from a range?\n",
    "# -> we can typecast a range into a set and then, by using .pop() method, can pick a random item."
   ]
  },
  {
   "cell_type": "code",
   "execution_count": null,
   "id": "ed4c3318",
   "metadata": {},
   "outputs": [],
   "source": []
  },
  {
   "cell_type": "code",
   "execution_count": 58,
   "id": "baae5347",
   "metadata": {},
   "outputs": [],
   "source": [
    "# que:-58. How can you get a random number in python?\n",
    "# -> To generate random number in Python, randint() function is used. \n",
    "# This function is defined in random module."
   ]
  },
  {
   "cell_type": "code",
   "execution_count": null,
   "id": "85eaa03e",
   "metadata": {},
   "outputs": [],
   "source": []
  },
  {
   "cell_type": "code",
   "execution_count": 59,
   "id": "42698c2b",
   "metadata": {},
   "outputs": [],
   "source": [
    "# que:-59. How will you set the starting value in generating random numbers?\n",
    "# -> The seed() method is used to initialize the random number generator. The random number \n",
    "# generator needs a number to start with (a seed value), to be able to generate a random number."
   ]
  },
  {
   "cell_type": "code",
   "execution_count": null,
   "id": "62544c64",
   "metadata": {},
   "outputs": [],
   "source": []
  },
  {
   "cell_type": "code",
   "execution_count": 60,
   "id": "dcfc445c",
   "metadata": {},
   "outputs": [],
   "source": [
    "# que:-60. How will you randomizes the items of a list in place?\n",
    "# -> The shuffle() method randomizes the items of a list in place"
   ]
  },
  {
   "cell_type": "code",
   "execution_count": null,
   "id": "ea874b0f",
   "metadata": {},
   "outputs": [],
   "source": []
  },
  {
   "cell_type": "code",
   "execution_count": 66,
   "id": "80e71134",
   "metadata": {},
   "outputs": [],
   "source": [
    "# que:-61. Write a Python program to read a random line from a file.\n",
    "# import random\n",
    "def random_line(fname):\n",
    "    lines = open(fname).read().splitlines()\n",
    "    return random.choice(lines)\n",
    "print(random_line('test.txt'))\n"
   ]
  },
  {
   "cell_type": "code",
   "execution_count": null,
   "id": "7db967e4",
   "metadata": {},
   "outputs": [],
   "source": []
  },
  {
   "cell_type": "code",
   "execution_count": 71,
   "id": "e8a717a3",
   "metadata": {},
   "outputs": [
    {
     "name": "stdout",
     "output_type": "stream",
     "text": [
      "enter the degree.\n",
      "60\n",
      "answer:- 3437.301082113304\n"
     ]
    }
   ],
   "source": [
    "# que:-62. Write a Python program to convert degree to radian.\n",
    "def dr(degree):\n",
    "    r=180/3.142*degree\n",
    "    return print('answer:-',r)\n",
    "s=dr(int(input('enter the degree.\\n')))"
   ]
  },
  {
   "cell_type": "code",
   "execution_count": null,
   "id": "79ff9678",
   "metadata": {},
   "outputs": [],
   "source": []
  },
  {
   "cell_type": "code",
   "execution_count": 72,
   "id": "1a4ff0db",
   "metadata": {},
   "outputs": [
    {
     "name": "stdout",
     "output_type": "stream",
     "text": [
      "enter the base.10\n",
      "enter the base.15\n",
      "enter the height.20\n",
      "the area of a trapezoid.:- 250\n"
     ]
    }
   ],
   "source": [
    "# que:-63. Write a Python program to calculate the area of a trapezoid.\n",
    "def at(a,b,h):\n",
    "    a1=(a+b)/2*h\n",
    "    return print('the area of a trapezoid.:-',int(a1))\n",
    "a4=at(int(input('enter the base.')),int(input('enter the base.')),int(input('enter the height.')))"
   ]
  },
  {
   "cell_type": "code",
   "execution_count": null,
   "id": "ece12d6a",
   "metadata": {},
   "outputs": [],
   "source": []
  },
  {
   "cell_type": "code",
   "execution_count": 73,
   "id": "c579f00d",
   "metadata": {},
   "outputs": [
    {
     "name": "stdout",
     "output_type": "stream",
     "text": [
      "enter the base.\n",
      "10\n",
      "enter the height.\n",
      "20\n",
      "the area of a parallelogram. 200\n"
     ]
    }
   ],
   "source": [
    "# que:-64. Write a Python program to calculate the area of a parallelogram.\n",
    "def a1(b,h):\n",
    "    a=b*h\n",
    "    return print('the area of a parallelogram.',a)\n",
    "d=a1(int(input('enter the base.\\n')),int(input('enter the height.\\n')))"
   ]
  },
  {
   "cell_type": "code",
   "execution_count": null,
   "id": "a298a782",
   "metadata": {},
   "outputs": [],
   "source": []
  },
  {
   "cell_type": "code",
   "execution_count": 74,
   "id": "efd16f04",
   "metadata": {},
   "outputs": [
    {
     "name": "stdout",
     "output_type": "stream",
     "text": [
      "enter the height.\n",
      "17\n",
      "enter the radius of the cylinder.\n",
      "10\n",
      "surface volume:- 5341.4\n",
      "surface of area:- 1068.28\n"
     ]
    }
   ],
   "source": [
    "# que:-65. Write a Python program to calculate surface volume and area of a cylinder.\n",
    "h=int(input('enter the height.\\n'))\n",
    "r=int(input('enter the radius of the cylinder.\\n'))\n",
    "pi=3.142\n",
    "v=pi*r*r*h\n",
    "a=2*pi*r*h\n",
    "print('surface volume:-',v)\n",
    "print('surface of area:-',a)"
   ]
  },
  {
   "cell_type": "code",
   "execution_count": null,
   "id": "5adf0f45",
   "metadata": {},
   "outputs": [],
   "source": []
  },
  {
   "cell_type": "code",
   "execution_count": 78,
   "id": "715048bf",
   "metadata": {},
   "outputs": [
    {
     "name": "stdout",
     "output_type": "stream",
     "text": [
      "enter any number.10\n",
      "list of divisors:- [1, 2, 5] \n",
      "sum of all divisior:- 8\n"
     ]
    }
   ],
   "source": [
    "# que:-66. Write a Python program to returns sum of all divisors of a number.\n",
    "def g1(a):\n",
    "    d1=[]\n",
    "    d2=0\n",
    "    for i in range(1,a):\n",
    "        if a%i==0:\n",
    "            d1+=[i]\n",
    "            d2+=i\n",
    "    return  print('list of divisors:-',d1,'\\nsum of all divisior:-',d2)\n",
    "s=g1(int(input('enter any number.')))"
   ]
  },
  {
   "cell_type": "code",
   "execution_count": null,
   "id": "52807ca4",
   "metadata": {},
   "outputs": [],
   "source": []
  },
  {
   "cell_type": "code",
   "execution_count": 79,
   "id": "54916394",
   "metadata": {},
   "outputs": [
    {
     "name": "stdout",
     "output_type": "stream",
     "text": [
      "enter the list of number.1 2 3 4 5 66 77 88 4 5 66 22 11\n",
      "maximum numbers 88\n",
      "minimum numbers 1\n"
     ]
    }
   ],
   "source": [
    "# que:-67. Write a Python program to find the maximum and minimum numbers from the specified decimal \n",
    "# numbers.\n",
    "def f2(a):\n",
    "    b=a.split()\n",
    "    b1=list(map(int,b))\n",
    "    m=max(b1)\n",
    "    n=min(b1)\n",
    "    print('maximum numbers',m)\n",
    "    print('minimum numbers',n)\n",
    "\n",
    "d=f2(input('enter the list of number.'))"
   ]
  },
  {
   "cell_type": "code",
   "execution_count": null,
   "id": "8d229a06",
   "metadata": {},
   "outputs": [],
   "source": []
  },
  {
   "cell_type": "code",
   "execution_count": null,
   "id": "389fa94a",
   "metadata": {},
   "outputs": [],
   "source": []
  }
 ],
 "metadata": {
  "kernelspec": {
   "display_name": "Python 3 (ipykernel)",
   "language": "python",
   "name": "python3"
  },
  "language_info": {
   "codemirror_mode": {
    "name": "ipython",
    "version": 3
   },
   "file_extension": ".py",
   "mimetype": "text/x-python",
   "name": "python",
   "nbconvert_exporter": "python",
   "pygments_lexer": "ipython3",
   "version": "3.11.2"
  }
 },
 "nbformat": 4,
 "nbformat_minor": 5
}
